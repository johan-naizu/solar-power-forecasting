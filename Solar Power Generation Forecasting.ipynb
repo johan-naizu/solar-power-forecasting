{
  "cells": [
    {
      "cell_type": "markdown",
      "metadata": {
        "id": "view-in-github",
        "colab_type": "text"
      },
      "source": [
        "<a href=\"https://colab.research.google.com/github/johan-naizu/solar-power-forecasting/blob/main/Solar%20Power%20Generation%20Forecasting.ipynb\" target=\"_parent\"><img src=\"https://colab.research.google.com/assets/colab-badge.svg\" alt=\"Open In Colab\"/></a>"
      ]
    },
    {
      "cell_type": "code",
      "source": [
        "import tensorflow as tf\n",
        "import os\n",
        "import pandas as pd\n",
        "import numpy as np\n",
        "from sklearn.preprocessing import MinMaxScaler\n",
        "from tensorflow.keras.models import Sequential\n",
        "from tensorflow.keras.layers import Conv1D, MaxPooling1D, LSTM, Dense, Dropout, TimeDistributed, Flatten, InputLayer\n",
        "from tensorflow.keras.regularizers import l2\n",
        "import matplotlib.pyplot as plt\n",
        "from tensorflow.keras.optimizers import Adam\n",
        "from tensorflow.keras.losses import MeanSquaredError\n",
        "from tensorflow.keras.metrics import RootMeanSquaredError\n",
        "from tensorflow.keras.callbacks import ModelCheckpoint,EarlyStopping,ReduceLROnPlateau\n",
        "from tensorflow.keras.utils import plot_model\n",
        "from math import sqrt\n",
        "from sklearn.metrics import mean_squared_error\n",
        "from sklearn.metrics import mean_absolute_error\n",
        "from sklearn.metrics import mean_absolute_percentage_error\n",
        "from sklearn.metrics import r2_score"
      ],
      "metadata": {
        "id": "ivbIvKQOZYcc"
      },
      "execution_count": null,
      "outputs": []
    },
    {
      "cell_type": "code",
      "source": [
        "df=pd.read_csv('https://raw.githubusercontent.com/johan-naizu/dataset/refs/heads/main/dataset4.csv')\n",
        "df"
      ],
      "metadata": {
        "id": "hhg9zFH3ZaOA"
      },
      "execution_count": null,
      "outputs": []
    },
    {
      "cell_type": "code",
      "source": [
        "df=df.set_index('timestamp_utc')\n",
        "df=df.rename_axis('DateTime')\n",
        "df"
      ],
      "metadata": {
        "id": "BZBPtxq7ZcCU"
      },
      "execution_count": null,
      "outputs": []
    },
    {
      "cell_type": "code",
      "source": [
        "print(df.index.dtype)"
      ],
      "metadata": {
        "id": "p0p9LM3GZd5o"
      },
      "execution_count": null,
      "outputs": []
    },
    {
      "cell_type": "code",
      "source": [
        "df.index = pd.to_datetime(df.index)\n",
        "df['Seconds']=df.index.map(pd.Timestamp.timestamp)\n",
        "df"
      ],
      "metadata": {
        "id": "lHw9ya68ZfgM"
      },
      "execution_count": null,
      "outputs": []
    },
    {
      "cell_type": "code",
      "source": [
        "print(df.index.dtype)"
      ],
      "metadata": {
        "id": "hgXoPu6iZhhC"
      },
      "execution_count": null,
      "outputs": []
    },
    {
      "cell_type": "code",
      "source": [
        "day = 60*60*24\n",
        "year = 365.2425 * day\n",
        "\n",
        "df['Day sin']=np.sin(df['Seconds'] * (2 * np.pi / day))\n",
        "df['Day cos']=np.cos(df['Seconds'] * (2 * np.pi / day))\n",
        "df['Year sin']=np.sin(df['Seconds'] * (2 * np.pi / year))\n",
        "df['Year cos']=np.cos(df['Seconds'] * (2 * np.pi / year))\n",
        "\n",
        "df"
      ],
      "metadata": {
        "id": "j2l4LX-2ZjDi"
      },
      "execution_count": null,
      "outputs": []
    },
    {
      "cell_type": "code",
      "source": [
        "df=df.drop('Seconds',axis=1)\n",
        "df"
      ],
      "metadata": {
        "id": "_KwXsQCnZksD"
      },
      "execution_count": null,
      "outputs": []
    },
    {
      "cell_type": "code",
      "source": [
        "features = df.loc[:,['temp', 'cloud_cover','shortwave_flux','power','Day sin','Day cos','Year sin','Year cos']]\n",
        "target = df.loc[:,['power']]"
      ],
      "metadata": {
        "id": "WnMx-yEXZmfE"
      },
      "execution_count": null,
      "outputs": []
    },
    {
      "cell_type": "code",
      "source": [
        "plt.plot(features['temp'])\n",
        "plt.xlabel('Time Index')\n",
        "plt.ylabel('Temperature (C)')\n",
        "plt.title('Temperature Time Series')"
      ],
      "metadata": {
        "id": "OJoG8QpXZoOX"
      },
      "execution_count": null,
      "outputs": []
    },
    {
      "cell_type": "code",
      "source": [
        "plt.plot(features['cloud_cover'][:500])\n",
        "plt.xlabel('Time Index')\n",
        "plt.ylabel('Cloud Cover')\n",
        "plt.title('Cloud Cover Time Series(Magnified)')"
      ],
      "metadata": {
        "id": "DzS5OBroZps5"
      },
      "execution_count": null,
      "outputs": []
    },
    {
      "cell_type": "code",
      "source": [
        "plt.plot(features['shortwave_flux'][:100])\n",
        "plt.xlabel('Time Index')\n",
        "plt.ylabel('Shortwave Flux (W/m^2)')\n",
        "plt.title('Shortwave Flux Time Series')"
      ],
      "metadata": {
        "id": "XYJS1v7LZrKV"
      },
      "execution_count": null,
      "outputs": []
    },
    {
      "cell_type": "code",
      "source": [
        "plt.plot(features['power'][:100])\n",
        "plt.xlabel('Time Index')\n",
        "plt.ylabel('Power (W)')\n",
        "plt.title('Power Time Series')"
      ],
      "metadata": {
        "id": "yJaOf74PZtEN"
      },
      "execution_count": null,
      "outputs": []
    },
    {
      "cell_type": "code",
      "source": [
        "plt.plot(df['Day sin'][:100])\n",
        "plt.xlabel('Time Index')\n",
        "plt.ylabel('Day Sin')\n",
        "plt.title('Day Sin Time Series')"
      ],
      "metadata": {
        "id": "T84rATVEZu7Y"
      },
      "execution_count": null,
      "outputs": []
    },
    {
      "cell_type": "code",
      "source": [
        "plt.plot(df['Day cos'][:100])\n",
        "plt.xlabel('Time Index')\n",
        "plt.ylabel('Day Cos')\n",
        "plt.title('Day Cos Time Series')"
      ],
      "metadata": {
        "id": "eTAu8HVVZwh_"
      },
      "execution_count": null,
      "outputs": []
    },
    {
      "cell_type": "code",
      "source": [
        "plt.plot(df['Year sin'])\n",
        "plt.xlabel('Time Index')\n",
        "plt.ylabel('Year Sin')\n",
        "plt.title('Year Sin Time Series')"
      ],
      "metadata": {
        "id": "Zivx7BrVZyff"
      },
      "execution_count": null,
      "outputs": []
    },
    {
      "cell_type": "code",
      "source": [
        "plt.plot(df['Year cos'])\n",
        "plt.xlabel('Time Index')\n",
        "plt.ylabel('Year Cos')\n",
        "plt.title('Year Cos Time Series')"
      ],
      "metadata": {
        "id": "6dmmQIOpZ1Gm"
      },
      "execution_count": null,
      "outputs": []
    },
    {
      "cell_type": "code",
      "source": [
        "features"
      ],
      "metadata": {
        "id": "AyDopjXNZ3as"
      },
      "execution_count": null,
      "outputs": []
    },
    {
      "cell_type": "code",
      "source": [
        "target"
      ],
      "metadata": {
        "id": "f86sErXAZ4x-"
      },
      "execution_count": null,
      "outputs": []
    },
    {
      "cell_type": "code",
      "source": [
        "print(features.shape)\n",
        "print(target.shape)"
      ],
      "metadata": {
        "id": "LkG9eL3IZ6AB"
      },
      "execution_count": null,
      "outputs": []
    },
    {
      "cell_type": "code",
      "source": [
        "features_scaler = MinMaxScaler()\n",
        "features_scaled = features_scaler.fit_transform(features)\n",
        "target_scaler = MinMaxScaler()\n",
        "target_scaled = target_scaler.fit_transform(target)\n",
        "time_steps=200"
      ],
      "metadata": {
        "id": "g0xyJ8yAZ7YP"
      },
      "execution_count": null,
      "outputs": []
    },
    {
      "cell_type": "code",
      "source": [
        "#Converting 2D to 3D (instead of np.reshape)\n",
        "def Reshape(features,target,time_steps):\n",
        "  new_features=[]\n",
        "  new_target=[]\n",
        "  for i in range(features.shape[0] - time_steps):\n",
        "    new_features.append([features[j+i] for j in range(time_steps)])\n",
        "    new_target.append(target[i+time_steps])\n",
        "  return np.array(new_features),np.array(new_target)\n",
        "X_data, y_data = Reshape(features_scaled,target_scaled,time_steps)"
      ],
      "metadata": {
        "id": "8nFHiDgiZ8sv"
      },
      "execution_count": null,
      "outputs": []
    },
    {
      "cell_type": "code",
      "source": [
        "print(X_data.shape)\n",
        "print(y_data.shape)"
      ],
      "metadata": {
        "id": "SYW2qCmoZ-WW"
      },
      "execution_count": null,
      "outputs": []
    },
    {
      "cell_type": "code",
      "source": [
        "test_train_split= int(0.8*X_data.shape[0])\n",
        "n_features=X_data.shape[2]"
      ],
      "metadata": {
        "id": "lyZGHlf0Z_1i"
      },
      "execution_count": null,
      "outputs": []
    },
    {
      "cell_type": "code",
      "source": [
        "X_train=X_data[:test_train_split]\n",
        "y_train=y_data[:test_train_split]\n",
        "\n",
        "X_test=X_data[test_train_split:]\n",
        "y_test=y_data[test_train_split:]"
      ],
      "metadata": {
        "id": "FEVU5IaBaB10"
      },
      "execution_count": null,
      "outputs": []
    },
    {
      "cell_type": "code",
      "source": [
        "print(\"X_train Shape: \", X_train.shape)\n",
        "print(\"y_train Shape: \", y_train.shape)\n",
        "\n",
        "print(\"X_test Shape: \", X_test.shape)\n",
        "print(\"y_test Shape\", y_test.shape)\n",
        "\n",
        "print(\"Number of Features: \", n_features)"
      ],
      "metadata": {
        "id": "0jmZy1LRaDdT"
      },
      "execution_count": null,
      "outputs": []
    },
    {
      "cell_type": "code",
      "source": [
        "subsequences = 10\n",
        "inner_timesteps = X_train.shape[1]//subsequences\n",
        "\n",
        "X_train = X_train.reshape((X_train.shape[0], subsequences, inner_timesteps, n_features))\n",
        "X_test = X_test.reshape((X_test.shape[0], subsequences, inner_timesteps, n_features))\n",
        "\n",
        "print(\"X_train Shape: \", X_train.shape)\n",
        "print(\"y_train Shape: \", y_train.shape)\n",
        "\n",
        "print(\"X_test Shape: \", X_test.shape)\n",
        "print(\"y_test Shape\", y_test.shape)\n",
        "\n",
        "print(\"Number of Features: \", n_features)"
      ],
      "metadata": {
        "id": "7CSaSgFCaE8Y"
      },
      "execution_count": null,
      "outputs": []
    },
    {
      "cell_type": "code",
      "source": [
        "model1=Sequential()\n",
        "model1.add(InputLayer((subsequences,inner_timesteps,n_features)))\n",
        "model1.add(TimeDistributed(Conv1D(filters=64, kernel_size=3, activation='relu')))\n",
        "model1.add(TimeDistributed(Flatten()))\n",
        "model1.add(LSTM(128, activation='tanh',return_sequences=False))\n",
        "model1.add(Dense(64, activation='relu'))\n",
        "model1.add(Dropout(0.3))\n",
        "model1.add(Dense(1 , activation='linear',kernel_regularizer=l2(0.02)))"
      ],
      "metadata": {
        "id": "Zx4F4Bj2aGqP"
      },
      "execution_count": null,
      "outputs": []
    },
    {
      "cell_type": "code",
      "source": [
        "cp=ModelCheckpoint('model1.keras', monitor='val_loss', save_best_only=True)\n",
        "es = EarlyStopping(monitor='val_loss', patience=10, restore_best_weights=True)\n",
        "model1.compile(loss=MeanSquaredError(), optimizer=Adam(learning_rate=0.001), metrics=[RootMeanSquaredError()])"
      ],
      "metadata": {
        "id": "LQ8MT7CLaIWO"
      },
      "execution_count": null,
      "outputs": []
    },
    {
      "cell_type": "code",
      "source": [
        "model1.summary()"
      ],
      "metadata": {
        "id": "xWvMKZjCaJmi"
      },
      "execution_count": null,
      "outputs": []
    },
    {
      "cell_type": "code",
      "source": [
        "history = model1.fit(X_train, y_train, epochs=100, callbacks=[cp,es], validation_split=0.2)"
      ],
      "metadata": {
        "id": "iHKIOJ4MaLMT"
      },
      "execution_count": null,
      "outputs": []
    },
    {
      "cell_type": "code",
      "source": [
        "train_loss = history.history['loss']  # Training loss\n",
        "val_loss = history.history.get('val_loss')  # Validation loss\n",
        "\n",
        "# Plotting the loss\n",
        "epochs = range(1, len(train_loss) + 1)  # Epoch numbers\n",
        "\n",
        "plt.figure(figsize=(10, 6))\n",
        "plt.plot(epochs, train_loss, label='Training Loss', color='b', marker='o')\n",
        "if val_loss:\n",
        "    plt.plot(epochs, val_loss, label='Validation Loss', color='g', marker='x')\n",
        "plt.xlabel('Epochs')\n",
        "plt.ylabel('Loss (Mean Squared Error)')\n",
        "plt.title('Loss Variation with Epochs')\n",
        "plt.legend()\n",
        "plt.grid(alpha=0.3)\n",
        "plt.tight_layout()\n",
        "plt.show()"
      ],
      "metadata": {
        "id": "vXZ47gh9aNZO"
      },
      "execution_count": null,
      "outputs": []
    },
    {
      "cell_type": "code",
      "source": [
        "from tensorflow.keras.models import load_model\n",
        "model1=load_model('model1.keras')"
      ],
      "metadata": {
        "id": "fHNjsGASaPgf"
      },
      "execution_count": null,
      "outputs": []
    },
    {
      "cell_type": "code",
      "source": [
        "#Evaluating Overfitting\n",
        "train_predictions = model1.predict(X_train)\n",
        "train_predictions = target_scaler.inverse_transform(train_predictions).flatten()\n",
        "train_actuals = target_scaler.inverse_transform(y_train).flatten()\n",
        "train_results=pd.DataFrame(data={'Predictions':train_predictions,'Actuals':train_actuals})\n",
        "train_results"
      ],
      "metadata": {
        "id": "wYoEs8L3aRlw"
      },
      "execution_count": null,
      "outputs": []
    },
    {
      "cell_type": "code",
      "source": [
        "print(train_results.shape)"
      ],
      "metadata": {
        "id": "WPaOkUEKaS4x"
      },
      "execution_count": null,
      "outputs": []
    },
    {
      "cell_type": "code",
      "source": [
        "plt.plot(train_results['Predictions'][:100],label='Predicted')\n",
        "plt.plot(train_results['Actuals'][:100],label='Actual')\n",
        "plt.grid(alpha=0.3)\n",
        "plt.legend()\n",
        "plt.xlabel('Time Index')\n",
        "plt.ylabel('Generated Power (W)')\n",
        "plt.title(\"Temporal Prediction Visualization (Training Data)\")\n",
        "plt.show()"
      ],
      "metadata": {
        "id": "66LPTbKMaUVR"
      },
      "execution_count": null,
      "outputs": []
    },
    {
      "cell_type": "code",
      "source": [
        "rmse_train = np.sqrt(mean_squared_error(train_results['Predictions'], train_results['Actuals']))\n",
        "mae_train = mean_absolute_error(train_results['Actuals'],train_results['Predictions'])\n",
        "mse_train = mean_squared_error(train_results['Actuals'],train_results['Predictions'])\n",
        "mape_train = mean_absolute_percentage_error(train_results['Actuals'],train_results['Predictions'])\n",
        "r2_train = r2_score(train_results['Actuals'],train_results['Predictions'])"
      ],
      "metadata": {
        "id": "ILTBUSfraWDX"
      },
      "execution_count": null,
      "outputs": []
    },
    {
      "cell_type": "code",
      "source": [
        "print(\"Mean Absolute Error = \", mae_train)\n",
        "print(\"Mean Squared Error = \", mse_train)\n",
        "print(\"Root Mean Squared Error =\", rmse_train)\n",
        "print(\"Mean Absolute Percentage Error =\", mape_train)\n",
        "print(\"r2 Score =\", r2_train)"
      ],
      "metadata": {
        "id": "0v-iWewFaXaN"
      },
      "execution_count": null,
      "outputs": []
    },
    {
      "cell_type": "code",
      "source": [
        "#Test data\n",
        "test_predictions = model1.predict(X_test)\n",
        "test_predictions = target_scaler.inverse_transform(test_predictions).flatten()\n",
        "test_actuals = target_scaler.inverse_transform(y_test).flatten()\n",
        "test_results=pd.DataFrame(data={'Predictions':test_predictions,'Actuals':test_actuals})\n",
        "test_results"
      ],
      "metadata": {
        "id": "NzDWon0WaZBW"
      },
      "execution_count": null,
      "outputs": []
    },
    {
      "cell_type": "code",
      "source": [
        "print(test_results.shape)"
      ],
      "metadata": {
        "id": "fcMkpkOcaaP1"
      },
      "execution_count": null,
      "outputs": []
    },
    {
      "cell_type": "code",
      "source": [
        "plt.plot(test_results['Predictions'][:100],label='Predicted')\n",
        "plt.plot(test_results['Actuals'][:100],label='Actual')\n",
        "plt.grid(alpha=0.3)\n",
        "plt.legend()\n",
        "plt.xlabel('Time Index')\n",
        "plt.ylabel('Generated Power (W)')\n",
        "plt.title(\"Temporal Prediction Visualization (Testing Data)\")\n",
        "plt.show()"
      ],
      "metadata": {
        "id": "d_jKREfiabij"
      },
      "execution_count": null,
      "outputs": []
    },
    {
      "cell_type": "code",
      "source": [
        "rmse_test = np.sqrt(mean_squared_error(test_results['Predictions'], test_results['Actuals']))\n",
        "mae_test = mean_absolute_error(test_results['Actuals'],test_results['Predictions'])\n",
        "mse_test = mean_squared_error(test_results['Actuals'],test_results['Predictions'])\n",
        "mape_test = mean_absolute_percentage_error(test_results['Actuals'],test_results['Predictions'])\n",
        "r2_test = r2_score(test_results['Actuals'],test_results['Predictions'])"
      ],
      "metadata": {
        "id": "alhoIAmpac5v"
      },
      "execution_count": null,
      "outputs": []
    },
    {
      "cell_type": "code",
      "source": [
        "print(\"Mean Absolute Error = \", mae_test)\n",
        "print(\"Mean Squared Error = \", mse_test)\n",
        "print(\"Root Mean Squared Error =\", rmse_test)\n",
        "print(\"Mean Absolute Percentage Error =\", mape_test)\n",
        "print(\"r2 Score =\", r2_test)"
      ],
      "metadata": {
        "id": "Fjuyn0hWaeFa"
      },
      "execution_count": null,
      "outputs": []
    },
    {
      "cell_type": "code",
      "source": [
        "residual_test=pd.DataFrame(data={'Residuals':test_results['Predictions']-test_results['Actuals']})\n",
        "plt.plot(residual_test['Residuals'],label='Residuals')\n",
        "plt.axhline(y=0, color='r', linestyle='-')\n",
        "plt.grid(alpha=0.3)\n",
        "plt.legend()\n",
        "plt.xlabel('Time Index')\n",
        "plt.ylabel('Residuals')\n",
        "plt.title(\"Residual Plot Magnified(Predictions - Actuals)\")\n",
        "plt.show()"
      ],
      "metadata": {
        "id": "glT2Al5cahbM"
      },
      "execution_count": null,
      "outputs": []
    },
    {
      "cell_type": "code",
      "source": [
        "# Metrics for train and test data\n",
        "metrics = ['RMSE', 'MAE', 'R² score * 1000']\n",
        "train_scores = [rmse_train, mae_train , r2_train*1000]\n",
        "test_scores = [rmse_test,mae_test,r2_test*1000]\n",
        "scores_df = pd.DataFrame({'Metrics': metrics, 'Train Scores': train_scores, 'Test Scores': test_scores})\n",
        "\n",
        "# Positions for bar groups\n",
        "x = np.arange(len(metrics))\n",
        "width = 0.35\n",
        "\n",
        "# Create the plot\n",
        "plt.bar(x - width/2, scores_df['Train Scores'], width, label='Train', color='b', alpha=0.7)\n",
        "plt.bar(x + width/2, scores_df['Test Scores'], width, label='Test', color='g', alpha=0.7)\n",
        "\n",
        "for i, v in enumerate(scores_df['Train Scores']):\n",
        "    plt.text(x[i] - width/2, v + 0.02, f'{v:.2f}', ha='center', va='bottom', fontsize=10)\n",
        "\n",
        "for i, v in enumerate(scores_df['Test Scores']):\n",
        "    plt.text(x[i] + width/2, v + 0.02, f'{v:.2f}', ha='center', va='bottom', fontsize=10)\n",
        "\n",
        "# Add labels, title, and legend\n",
        "plt.xlabel('Metrics')\n",
        "plt.ylabel('Score')\n",
        "plt.title('Train vs Test Metrics Comparison')\n",
        "plt.xticks(x, scores_df['Metrics'])  # Add metric names as x-axis labels\n",
        "plt.legend()\n",
        "plt.grid(alpha=0.3)\n",
        "\n",
        "# Show the plot\n",
        "plt.tight_layout()\n",
        "plt.show()"
      ],
      "metadata": {
        "id": "1EFmpL3fajZi"
      },
      "execution_count": null,
      "outputs": []
    },
    {
      "cell_type": "code",
      "source": [
        "plt.hist(residual_test['Residuals'], bins=30, edgecolor='k', alpha=0.7)\n",
        "plt.xlabel('Residuals')\n",
        "plt.ylabel('Frequency')\n",
        "plt.title('Histogram of Residuals')\n",
        "plt.grid(alpha=0.3)\n",
        "plt.show()"
      ],
      "metadata": {
        "id": "ELi-CyCPal1L"
      },
      "execution_count": null,
      "outputs": []
    },
    {
      "cell_type": "code",
      "source": [
        "plt.scatter(test_results['Actuals'], test_results['Predictions'], alpha=0.6, edgecolor='k')\n",
        "plt.plot([min(test_results['Actuals']), max(test_results['Actuals'])],\n",
        "         [min(test_results['Actuals']), max(test_results['Actuals'])],\n",
        "         color='r', linestyle='--', label='Ideal Prediction')\n",
        "plt.xlabel('Actual Values (W)')\n",
        "plt.ylabel('Predicted Values (W)')\n",
        "plt.title('Predictions vs Actuals')\n",
        "plt.legend()\n",
        "plt.grid(alpha=0.3)\n",
        "plt.show()"
      ],
      "metadata": {
        "id": "YPfHTUnhanXo"
      },
      "execution_count": null,
      "outputs": []
    },
    {
      "cell_type": "code",
      "source": [
        "residual_cumsum = residual_test['Residuals'].cumsum()\n",
        "plt.plot(residual_cumsum, color='purple')\n",
        "plt.xlabel('Time Index')\n",
        "plt.ylabel('Cumulative Error')\n",
        "plt.title('Cumulative Prediction Error Over Time')\n",
        "plt.grid(alpha=0.3)\n",
        "plt.show()"
      ],
      "metadata": {
        "id": "j7yuzIx3aoxK"
      },
      "execution_count": null,
      "outputs": []
    },
    {
      "cell_type": "code",
      "source": [
        "plot_model(model1, show_shapes=True, show_layer_names=True, to_file='model_architecture.png')"
      ],
      "metadata": {
        "id": "rAY9VNGVaqk1"
      },
      "execution_count": null,
      "outputs": []
    }
  ],
  "metadata": {
    "colab": {
      "provenance": [],
      "include_colab_link": true
    },
    "kernelspec": {
      "display_name": "Python 3",
      "name": "python3"
    },
    "language_info": {
      "name": "python"
    }
  },
  "nbformat": 4,
  "nbformat_minor": 0
}